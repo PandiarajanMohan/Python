{
 "cells": [
  {
   "cell_type": "code",
   "execution_count": null,
   "id": "7c50d166-5496-47d4-abd5-110eba2e1c79",
   "metadata": {},
   "outputs": [],
   "source": [
    "# Welcome to Assignment-1"
   ]
  },
  {
   "cell_type": "code",
   "execution_count": 1,
   "id": "62471dca-4572-491b-8de3-1aaef0e8e49f",
   "metadata": {},
   "outputs": [
    {
     "name": "stdout",
     "output_type": "stream",
     "text": [
      "Welcome to Assignment-1\n"
     ]
    }
   ],
   "source": [
    "print(\"Welcome to Assignment-1\")"
   ]
  },
  {
   "cell_type": "markdown",
   "id": "28227366-2738-482a-aad7-685409425556",
   "metadata": {},
   "source": [
    "Num1= 10\n",
    "Num2= 30\n",
    "Add= 40"
   ]
  },
  {
   "cell_type": "code",
   "execution_count": 9,
   "id": "46445878-29ba-49d1-b64a-10444ea6c7c2",
   "metadata": {},
   "outputs": [
    {
     "name": "stdout",
     "output_type": "stream",
     "text": [
      "Num1= 10\n",
      "Num2= 30\n",
      "Add= 40\n"
     ]
    }
   ],
   "source": [
    "Num1=10\n",
    "Num2=30\n",
    "print(\"Num1=\",Num1)\n",
    "print(\"Num2=\",Num2)\n",
    "print(\"Add=\",Num1+Num2)"
   ]
  },
  {
   "cell_type": "code",
   "execution_count": 33,
   "id": "7e34bfc4-0506-46ab-8f5a-3a6150bb19e4",
   "metadata": {},
   "outputs": [
    {
     "name": "stdin",
     "output_type": "stream",
     "text": [
      "Enter your Weight (KG) 65\n"
     ]
    }
   ],
   "source": [
    "#Body Mass Index\n",
    "#BMI=Body Mass (kg)/Height (m)2\n",
    "\n",
    "bodyMass=int(input(\"Enter your Weight (KG)\"))"
   ]
  },
  {
   "cell_type": "code",
   "execution_count": 43,
   "id": "e57bd325-c398-471f-81d0-ff7e30952bb6",
   "metadata": {},
   "outputs": [
    {
     "name": "stdin",
     "output_type": "stream",
     "text": [
      "Enter your Height (CM) 158\n"
     ]
    },
    {
     "name": "stdout",
     "output_type": "stream",
     "text": [
      "Height= 1.58\n"
     ]
    }
   ],
   "source": [
    "height=int(input(\"Enter your Height (CM)\"))\n",
    "#convert CM to M\n",
    "height=height/100\n",
    "print(\"Height=\",height)"
   ]
  },
  {
   "cell_type": "code",
   "execution_count": 45,
   "id": "8d232e48-4407-41f8-b599-b0784424674c",
   "metadata": {},
   "outputs": [
    {
     "name": "stdout",
     "output_type": "stream",
     "text": [
      "Your BMI is 26.037493991347535\n"
     ]
    }
   ],
   "source": [
    "BMI=bodyMass/height**2\n",
    "print(\"Your BMI is\",BMI)"
   ]
  },
  {
   "cell_type": "code",
   "execution_count": 47,
   "id": "76fccbab-8eb0-4794-9448-8ebc3d22de3e",
   "metadata": {},
   "outputs": [
    {
     "name": "stdout",
     "output_type": "stream",
     "text": [
      "Over Weight\n"
     ]
    }
   ],
   "source": [
    "if(BMI<18.5):\n",
    "    print(\"Under Weight\")\n",
    "elif(BMI<25):\n",
    "    print(\"Normal Weight\")\n",
    "elif(BMI<30):\n",
    "    print(\"Over Weight\")\n",
    "else:\n",
    "    print(\"Obesity\")\n"
   ]
  },
  {
   "cell_type": "code",
   "execution_count": 51,
   "id": "8b37e174-23a1-447b-b405-cdedbda94f69",
   "metadata": {},
   "outputs": [
    {
     "name": "stdin",
     "output_type": "stream",
     "text": [
      "Enter the BMI Index: 22\n"
     ]
    },
    {
     "name": "stdout",
     "output_type": "stream",
     "text": [
      "Normal Weight\n"
     ]
    }
   ],
   "source": [
    "bmi=int(input(\"Enter the BMI Index:\"))\n",
    "if(bmi<18.5):\n",
    "    print(\"Under Weight\")\n",
    "elif(bmi<25):\n",
    "    print(\"Normal Weight\")\n",
    "elif(bmi<30):\n",
    "    print(\"Over Weight\")\n",
    "else:\n",
    "    print(\"Obesity\")"
   ]
  },
  {
   "cell_type": "code",
   "execution_count": null,
   "id": "ad224d4a-595c-409d-91b3-2fd006cfbb29",
   "metadata": {},
   "outputs": [],
   "source": []
  }
 ],
 "metadata": {
  "kernelspec": {
   "display_name": "Python 3 (ipykernel)",
   "language": "python",
   "name": "python3"
  },
  "language_info": {
   "codemirror_mode": {
    "name": "ipython",
    "version": 3
   },
   "file_extension": ".py",
   "mimetype": "text/x-python",
   "name": "python",
   "nbconvert_exporter": "python",
   "pygments_lexer": "ipython3",
   "version": "3.12.7"
  }
 },
 "nbformat": 4,
 "nbformat_minor": 5
}
