{
 "cells": [
  {
   "cell_type": "code",
   "execution_count": 7,
   "id": "ef75a5df-b611-47ce-b8fc-3e2a676a2e67",
   "metadata": {},
   "outputs": [],
   "source": [
    "list1=[20,45,60,2]"
   ]
  },
  {
   "cell_type": "code",
   "execution_count": 13,
   "id": "e692b83c-906f-4802-a404-eb0a45b37fa0",
   "metadata": {},
   "outputs": [],
   "source": [
    "class humanKnowledge():\n",
    "    def ageCategory():\n",
    "        for age in list1:\n",
    "            if(age<18):\n",
    "                print(\"Children\")\n",
    "            elif(age<35):\n",
    "                print(\"Adult\")\n",
    "            elif(age<59):\n",
    "                print(\"Citizen\")\n",
    "            else:\n",
    "                print(\"Senior Citizen\")\n",
    "    def simpleInterest(principle,rate,time):\n",
    "        sInterest=principle*rate*time/100\n",
    "        return sInterest\n",
    "    def ConvertCMtoM(CM):\n",
    "        return CM/100\n",
    "    def BMICalculation(BM,H):\n",
    "        return BM/H**2"
   ]
  },
  {
   "cell_type": "code",
   "execution_count": 15,
   "id": "30ff124e-4e33-4202-99db-0941e5b3ab5f",
   "metadata": {},
   "outputs": [
    {
     "name": "stdout",
     "output_type": "stream",
     "text": [
      "Adult\n",
      "Citizen\n",
      "Senior Citizen\n",
      "Children\n"
     ]
    }
   ],
   "source": [
    "humanKnowledge.ageCategory()"
   ]
  },
  {
   "cell_type": "code",
   "execution_count": 17,
   "id": "5f9b2cb7-b82a-4479-ae91-f9ac25f53e3d",
   "metadata": {},
   "outputs": [
    {
     "name": "stdin",
     "output_type": "stream",
     "text": [
      "Enter the Principle Amount: 5000\n",
      "Enter the Rate of Interest: 12\n",
      "Enter the Duration: 2\n"
     ]
    },
    {
     "name": "stdout",
     "output_type": "stream",
     "text": [
      "Simple interest is: 1200.0\n"
     ]
    }
   ],
   "source": [
    "SI=humanKnowledge.simpleInterest(int(input(\"Enter the Principle Amount:\")),int(input(\"Enter the Rate of Interest:\")),int(input(\"Enter the Duration:\")))\n",
    "print(f\"Simple interest is: {SI}\")"
   ]
  },
  {
   "cell_type": "code",
   "execution_count": 19,
   "id": "13b52a0d-eac2-4c23-b58d-b8a59ccd60cb",
   "metadata": {},
   "outputs": [
    {
     "name": "stdin",
     "output_type": "stream",
     "text": [
      "Enter your Weight (KG) 76\n",
      "Enter your Height (CM) 156\n"
     ]
    },
    {
     "name": "stdout",
     "output_type": "stream",
     "text": [
      "Your BMI Index is: 31.22945430637738\n",
      "Obesity\n"
     ]
    }
   ],
   "source": [
    "bodyMass=int(input(\"Enter your Weight (KG)\"))\n",
    "height=humanKnowledge.ConvertCMtoM(int(input(\"Enter your Height (CM)\")))\n",
    "BMI=humanKnowledge.BMICalculation(bodyMass,height)\n",
    "print(f\"Your BMI Index is: {BMI}\")\n",
    "if(BMI<18.5):\n",
    "    print(\"Under Weight\")\n",
    "elif(BMI<25):\n",
    "    print(\"Normal Weight\")\n",
    "elif(BMI<30):\n",
    "    print(\"Over Weight\")\n",
    "else:\n",
    "    print(\"Obesity\")"
   ]
  }
 ],
 "metadata": {
  "kernelspec": {
   "display_name": "Python 3 (ipykernel)",
   "language": "python",
   "name": "python3"
  },
  "language_info": {
   "codemirror_mode": {
    "name": "ipython",
    "version": 3
   },
   "file_extension": ".py",
   "mimetype": "text/x-python",
   "name": "python",
   "nbconvert_exporter": "python",
   "pygments_lexer": "ipython3",
   "version": "3.12.7"
  }
 },
 "nbformat": 4,
 "nbformat_minor": 5
}
