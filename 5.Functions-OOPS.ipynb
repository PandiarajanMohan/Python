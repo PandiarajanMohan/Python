{
 "cells": [
  {
   "cell_type": "code",
   "execution_count": 11,
   "id": "ef75a5df-b611-47ce-b8fc-3e2a676a2e67",
   "metadata": {},
   "outputs": [],
   "source": [
    "list1=[20,45,60,2]"
   ]
  },
  {
   "cell_type": "code",
   "execution_count": 13,
   "id": "e692b83c-906f-4802-a404-eb0a45b37fa0",
   "metadata": {},
   "outputs": [],
   "source": [
    "#Function without return\n",
    "def ageCategory():\n",
    "    for age in list1:\n",
    "        if(age<18):\n",
    "            print(\"Children\")\n",
    "        elif(age<35):\n",
    "            print(\"Adult\")\n",
    "        elif(age<59):\n",
    "            print(\"Citizen\")\n",
    "        else:\n",
    "            print(\"Senior Citizen\")"
   ]
  },
  {
   "cell_type": "code",
   "execution_count": 15,
   "id": "30ff124e-4e33-4202-99db-0941e5b3ab5f",
   "metadata": {},
   "outputs": [
    {
     "name": "stdout",
     "output_type": "stream",
     "text": [
      "Adult\n",
      "Citizen\n",
      "Senior Citizen\n",
      "Children\n"
     ]
    }
   ],
   "source": [
    "ageCategory()"
   ]
  },
  {
   "cell_type": "code",
   "execution_count": 19,
   "id": "6f431671-1ca6-423e-ac3e-a09510db4a5e",
   "metadata": {},
   "outputs": [],
   "source": [
    "#Function with return and arguments\n",
    "def simpleInterest(principle,rate,time):\n",
    "    sInterest=principle*rate*time/100\n",
    "    return sInterest"
   ]
  },
  {
   "cell_type": "code",
   "execution_count": 27,
   "id": "5f9b2cb7-b82a-4479-ae91-f9ac25f53e3d",
   "metadata": {},
   "outputs": [
    {
     "name": "stdin",
     "output_type": "stream",
     "text": [
      "Enter the Principle Amount: 5000\n",
      "Enter the Rate of Interest: 12\n",
      "Enter the Duration: 5\n"
     ]
    },
    {
     "name": "stdout",
     "output_type": "stream",
     "text": [
      "Simple interest is: 3000.0\n"
     ]
    }
   ],
   "source": [
    "SI=simpleInterest(int(input(\"Enter the Principle Amount:\")),int(input(\"Enter the Rate of Interest:\")),int(input(\"Enter the Duration:\")))\n",
    "print(f\"Simple interest is: {SI}\")"
   ]
  },
  {
   "cell_type": "code",
   "execution_count": 29,
   "id": "84e10362-f1f4-4ce2-b788-d44f9589b008",
   "metadata": {},
   "outputs": [],
   "source": [
    "#Convert CM to M\n",
    "def ConvertCMtoM(CM):\n",
    "    return CM/100"
   ]
  },
  {
   "cell_type": "code",
   "execution_count": 39,
   "id": "13b52a0d-eac2-4c23-b58d-b8a59ccd60cb",
   "metadata": {},
   "outputs": [
    {
     "name": "stdin",
     "output_type": "stream",
     "text": [
      "Enter your Weight (KG) 75\n",
      "Enter your Height (CM) 162\n"
     ]
    },
    {
     "name": "stdout",
     "output_type": "stream",
     "text": [
      "Your BMI Index is: 28.577960676726104\n",
      "Over Weight\n"
     ]
    }
   ],
   "source": [
    "bodyMass=int(input(\"Enter your Weight (KG)\"))\n",
    "height=ConvertCMtoM(int(input(\"Enter your Height (CM)\")))\n",
    "BMI=BMICalculation(bodyMass,height)\n",
    "print(f\"Your BMI Index is: {BMI}\")\n",
    "if(BMI<18.5):\n",
    "    print(\"Under Weight\")\n",
    "elif(BMI<25):\n",
    "    print(\"Normal Weight\")\n",
    "elif(BMI<30):\n",
    "    print(\"Over Weight\")\n",
    "else:\n",
    "    print(\"Obesity\")"
   ]
  },
  {
   "cell_type": "code",
   "execution_count": 31,
   "id": "b5a24db4-007a-41fd-b030-6f6f7a6a6b98",
   "metadata": {},
   "outputs": [],
   "source": [
    "def BMICalculation(BM,H):\n",
    "    return BM/H**2"
   ]
  },
  {
   "cell_type": "code",
   "execution_count": null,
   "id": "1616478e-eb78-42f8-b5c0-096b48a73ae7",
   "metadata": {},
   "outputs": [],
   "source": []
  }
 ],
 "metadata": {
  "kernelspec": {
   "display_name": "Python 3 (ipykernel)",
   "language": "python",
   "name": "python3"
  },
  "language_info": {
   "codemirror_mode": {
    "name": "ipython",
    "version": 3
   },
   "file_extension": ".py",
   "mimetype": "text/x-python",
   "name": "python",
   "nbconvert_exporter": "python",
   "pygments_lexer": "ipython3",
   "version": "3.12.7"
  }
 },
 "nbformat": 4,
 "nbformat_minor": 5
}
