{
 "cells": [
  {
   "cell_type": "code",
   "execution_count": 1,
   "id": "0498806e-9ade-40d8-ad8d-c8adc74e0064",
   "metadata": {},
   "outputs": [
    {
     "name": "stdout",
     "output_type": "stream",
     "text": [
      "Welcome to Hope AI\n"
     ]
    }
   ],
   "source": [
    "print(\"Welcome to Hope AI\")"
   ]
  },
  {
   "cell_type": "code",
   "execution_count": 7,
   "id": "7d8bea69-5a76-4838-b388-8a7fe4038952",
   "metadata": {},
   "outputs": [
    {
     "name": "stdout",
     "output_type": "stream",
     "text": [
      "Hello\n"
     ]
    }
   ],
   "source": [
    "print('Hello')"
   ]
  },
  {
   "cell_type": "code",
   "execution_count": null,
   "id": "92416dae-9396-4623-80a7-ce4b31a3f5b5",
   "metadata": {},
   "outputs": [],
   "source": []
  }
 ],
 "metadata": {
  "kernelspec": {
   "display_name": "Python 3 (ipykernel)",
   "language": "python",
   "name": "python3"
  },
  "language_info": {
   "codemirror_mode": {
    "name": "ipython",
    "version": 3
   },
   "file_extension": ".py",
   "mimetype": "text/x-python",
   "name": "python",
   "nbconvert_exporter": "python",
   "pygments_lexer": "ipython3",
   "version": "3.12.7"
  }
 },
 "nbformat": 4,
 "nbformat_minor": 5
}
