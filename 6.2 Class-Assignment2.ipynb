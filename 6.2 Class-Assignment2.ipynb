{
 "cells": [
  {
   "cell_type": "code",
   "execution_count": 53,
   "id": "d384461a-df52-4f7f-b59a-8b662dfdfaff",
   "metadata": {},
   "outputs": [],
   "source": [
    "from OOPSConcept import ConceptofOOPS"
   ]
  },
  {
   "cell_type": "code",
   "execution_count": 27,
   "id": "1acd317a-66c8-4bc4-9e19-f8e056e6c2da",
   "metadata": {},
   "outputs": [
    {
     "name": "stdout",
     "output_type": "stream",
     "text": [
      "Sub-fields in AI are:\n",
      "Machine Learning\n",
      "Neural Networks\n",
      "Vision\n",
      "Robotics\n",
      "Speech Processing\n",
      "Natural Language Processing\n"
     ]
    }
   ],
   "source": [
    "ConceptofOOPS.Subfields()"
   ]
  },
  {
   "cell_type": "code",
   "execution_count": 31,
   "id": "933a8d36-174f-4704-a836-db36ced958ae",
   "metadata": {},
   "outputs": [
    {
     "name": "stdin",
     "output_type": "stream",
     "text": [
      "Enter a number: 22\n"
     ]
    },
    {
     "name": "stdout",
     "output_type": "stream",
     "text": [
      "22 is Even Number\n"
     ]
    }
   ],
   "source": [
    "num=int(input(\"Enter a number:\"))\n",
    "odd_even=ConceptofOOPS.OddEven(num)\n",
    "if(odd_even==0):\n",
    "    print(f\"{num} is Even Number\")\n",
    "else:\n",
    "    print(f\"{num} is Odd Number\")"
   ]
  },
  {
   "cell_type": "code",
   "execution_count": 33,
   "id": "deee25e9-efb6-478b-93f0-7ff38562ca98",
   "metadata": {},
   "outputs": [
    {
     "name": "stdin",
     "output_type": "stream",
     "text": [
      "Your Gender: female\n",
      "Your Age: 12\n"
     ]
    },
    {
     "name": "stdout",
     "output_type": "stream",
     "text": [
      "NOT ElIGIBLE\n"
     ]
    }
   ],
   "source": [
    "print(ConceptofOOPS.eligible(input(\"Your Gender:\"),int(input(\"Your Age:\"))))"
   ]
  },
  {
   "cell_type": "code",
   "execution_count": 55,
   "id": "11d6db58-5a10-40a3-b4b7-025c61b703db",
   "metadata": {},
   "outputs": [
    {
     "ename": "AttributeError",
     "evalue": "type object 'ConceptofOOPS' has no attribute 'percentage1'",
     "output_type": "error",
     "traceback": [
      "\u001b[1;31m---------------------------------------------------------------------------\u001b[0m",
      "\u001b[1;31mAttributeError\u001b[0m                            Traceback (most recent call last)",
      "Cell \u001b[1;32mIn[55], line 1\u001b[0m\n\u001b[1;32m----> 1\u001b[0m \u001b[38;5;28mprint\u001b[39m(\u001b[38;5;124m\"\u001b[39m\u001b[38;5;124mPercentage:\u001b[39m\u001b[38;5;124m\"\u001b[39m,\u001b[43mConceptofOOPS\u001b[49m\u001b[38;5;241;43m.\u001b[39;49m\u001b[43mpercentage1\u001b[49m(\u001b[38;5;28mint\u001b[39m(\u001b[38;5;28minput\u001b[39m(\u001b[38;5;124m\"\u001b[39m\u001b[38;5;124mSubject1=\u001b[39m\u001b[38;5;124m\"\u001b[39m)),\u001b[38;5;28mint\u001b[39m(\u001b[38;5;28minput\u001b[39m(\u001b[38;5;124m\"\u001b[39m\u001b[38;5;124mSubject2=\u001b[39m\u001b[38;5;124m\"\u001b[39m)),\u001b[38;5;28mint\u001b[39m(\u001b[38;5;28minput\u001b[39m(\u001b[38;5;124m\"\u001b[39m\u001b[38;5;124mSubject3=\u001b[39m\u001b[38;5;124m\"\u001b[39m)),\u001b[38;5;28mint\u001b[39m(\u001b[38;5;28minput\u001b[39m(\u001b[38;5;124m\"\u001b[39m\u001b[38;5;124mSubject4=\u001b[39m\u001b[38;5;124m\"\u001b[39m)),\u001b[38;5;28mint\u001b[39m(\u001b[38;5;28minput\u001b[39m(\u001b[38;5;124m\"\u001b[39m\u001b[38;5;124mSubject5=\u001b[39m\u001b[38;5;124m\"\u001b[39m))))\n",
      "\u001b[1;31mAttributeError\u001b[0m: type object 'ConceptofOOPS' has no attribute 'percentage1'"
     ]
    }
   ],
   "source": [
    "print(\"Percentage:\",ConceptofOOPS.percentage1(int(input(\"Subject1=\")),int(input(\"Subject2=\")),int(input(\"Subject3=\")),int(input(\"Subject4=\")),int(input(\"Subject5=\"))))"
   ]
  },
  {
   "cell_type": "code",
   "execution_count": 43,
   "id": "33eaac5a-33e5-4cea-a5a8-646253753054",
   "metadata": {},
   "outputs": [
    {
     "ename": "AttributeError",
     "evalue": "type object 'ConceptofOOPS' has no attribute 'area'",
     "output_type": "error",
     "traceback": [
      "\u001b[1;31m---------------------------------------------------------------------------\u001b[0m",
      "\u001b[1;31mAttributeError\u001b[0m                            Traceback (most recent call last)",
      "Cell \u001b[1;32mIn[43], line 1\u001b[0m\n\u001b[1;32m----> 1\u001b[0m \u001b[38;5;28mprint\u001b[39m(\u001b[38;5;124m\"\u001b[39m\u001b[38;5;124mArea formula:\u001b[39m\u001b[38;5;124m\"\u001b[39m,\u001b[43mConceptofOOPS\u001b[49m\u001b[38;5;241;43m.\u001b[39;49m\u001b[43marea\u001b[49m(\u001b[38;5;28mfloat\u001b[39m(\u001b[38;5;28minput\u001b[39m(\u001b[38;5;124m\"\u001b[39m\u001b[38;5;124mHeight:\u001b[39m\u001b[38;5;124m\"\u001b[39m)),\u001b[38;5;28mfloat\u001b[39m(\u001b[38;5;28minput\u001b[39m(\u001b[38;5;124m\"\u001b[39m\u001b[38;5;124mBreadth:\u001b[39m\u001b[38;5;124m\"\u001b[39m))))\n\u001b[0;32m      2\u001b[0m \u001b[38;5;28mprint\u001b[39m(\u001b[38;5;124m\"\u001b[39m\u001b[38;5;124mPerimeter of Triangle:\u001b[39m\u001b[38;5;124m\"\u001b[39m,ConceptofOOPS\u001b[38;5;241m.\u001b[39mperimeter(\u001b[38;5;28mint\u001b[39m(\u001b[38;5;28minput\u001b[39m(\u001b[38;5;124m\"\u001b[39m\u001b[38;5;124mHeight1:\u001b[39m\u001b[38;5;124m\"\u001b[39m)),\u001b[38;5;28mint\u001b[39m(\u001b[38;5;28minput\u001b[39m(\u001b[38;5;124m\"\u001b[39m\u001b[38;5;124mHeight2:\u001b[39m\u001b[38;5;124m\"\u001b[39m)),\u001b[38;5;28mint\u001b[39m(\u001b[38;5;28minput\u001b[39m(\u001b[38;5;124m\"\u001b[39m\u001b[38;5;124mBreadth:\u001b[39m\u001b[38;5;124m\"\u001b[39m))))\n",
      "\u001b[1;31mAttributeError\u001b[0m: type object 'ConceptofOOPS' has no attribute 'area'"
     ]
    }
   ],
   "source": [
    "print(\"Area formula:\",ConceptofOOPS.area(float(input(\"Height:\")),float(input(\"Breadth:\"))))\n",
    "print(\"Perimeter of Triangle:\",ConceptofOOPS.perimeter(int(input(\"Height1:\")),int(input(\"Height2:\")),int(input(\"Breadth:\"))))"
   ]
  },
  {
   "cell_type": "code",
   "execution_count": null,
   "id": "a86fe2f6-3a99-4d9a-8fa2-c9048c5ddbf4",
   "metadata": {},
   "outputs": [],
   "source": []
  }
 ],
 "metadata": {
  "kernelspec": {
   "display_name": "Python 3 (ipykernel)",
   "language": "python",
   "name": "python3"
  },
  "language_info": {
   "codemirror_mode": {
    "name": "ipython",
    "version": 3
   },
   "file_extension": ".py",
   "mimetype": "text/x-python",
   "name": "python",
   "nbconvert_exporter": "python",
   "pygments_lexer": "ipython3",
   "version": "3.12.7"
  }
 },
 "nbformat": 4,
 "nbformat_minor": 5
}
