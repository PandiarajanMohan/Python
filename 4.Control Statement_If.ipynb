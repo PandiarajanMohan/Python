{
 "cells": [
  {
   "cell_type": "code",
   "execution_count": 1,
   "id": "44c5c0e3-3fab-469b-9415-cab1e6ee1411",
   "metadata": {},
   "outputs": [],
   "source": [
    "#if\n",
    "if():\n",
    "    print()"
   ]
  },
  {
   "cell_type": "code",
   "execution_count": 3,
   "id": "6f99a4c1-4427-40b5-859e-527a454133a1",
   "metadata": {},
   "outputs": [
    {
     "ename": "SyntaxError",
     "evalue": "expected ':' (2436976950.py, line 1)",
     "output_type": "error",
     "traceback": [
      "\u001b[1;36m  Cell \u001b[1;32mIn[3], line 1\u001b[1;36m\u001b[0m\n\u001b[1;33m    if()\u001b[0m\n\u001b[1;37m        ^\u001b[0m\n\u001b[1;31mSyntaxError\u001b[0m\u001b[1;31m:\u001b[0m expected ':'\n"
     ]
    }
   ],
   "source": [
    "if()"
   ]
  },
  {
   "cell_type": "code",
   "execution_count": 7,
   "id": "b3946ed2-cbd6-48af-9184-aa0451da4a8d",
   "metadata": {},
   "outputs": [
    {
     "name": "stdin",
     "output_type": "stream",
     "text": [
      "Enter your Age: 18\n"
     ]
    }
   ],
   "source": [
    "age=int(input(\"Enter your Age:\"))"
   ]
  },
  {
   "cell_type": "code",
   "execution_count": 9,
   "id": "cf796e91-7ba9-4f11-bf01-c34e01f009b5",
   "metadata": {},
   "outputs": [
    {
     "name": "stdout",
     "output_type": "stream",
     "text": [
      "Adult\n"
     ]
    }
   ],
   "source": [
    "if(age==18):\n",
    "    print(\"Adult\")"
   ]
  },
  {
   "cell_type": "code",
   "execution_count": 11,
   "id": "97ea84ee-3f27-4991-95c2-ddc09e4a491a",
   "metadata": {},
   "outputs": [
    {
     "ename": "IndentationError",
     "evalue": "expected an indented block after 'if' statement on line 1 (378035670.py, line 2)",
     "output_type": "error",
     "traceback": [
      "\u001b[1;36m  Cell \u001b[1;32mIn[11], line 2\u001b[1;36m\u001b[0m\n\u001b[1;33m    print(\"Not a Adult\")\u001b[0m\n\u001b[1;37m    ^\u001b[0m\n\u001b[1;31mIndentationError\u001b[0m\u001b[1;31m:\u001b[0m expected an indented block after 'if' statement on line 1\n"
     ]
    }
   ],
   "source": [
    "if(age!=18):\n",
    "print(\"Not a Adult\")\n"
   ]
  },
  {
   "cell_type": "code",
   "execution_count": 13,
   "id": "99daa151-f5f7-499a-8887-ee25b6131e5d",
   "metadata": {},
   "outputs": [],
   "source": [
    "#space is required after the control statements"
   ]
  },
  {
   "cell_type": "code",
   "execution_count": null,
   "id": "ed14f1cf-d193-48c6-8f28-1746664000c5",
   "metadata": {},
   "outputs": [],
   "source": []
  }
 ],
 "metadata": {
  "kernelspec": {
   "display_name": "Python 3 (ipykernel)",
   "language": "python",
   "name": "python3"
  },
  "language_info": {
   "codemirror_mode": {
    "name": "ipython",
    "version": 3
   },
   "file_extension": ".py",
   "mimetype": "text/x-python",
   "name": "python",
   "nbconvert_exporter": "python",
   "pygments_lexer": "ipython3",
   "version": "3.12.7"
  }
 },
 "nbformat": 4,
 "nbformat_minor": 5
}
