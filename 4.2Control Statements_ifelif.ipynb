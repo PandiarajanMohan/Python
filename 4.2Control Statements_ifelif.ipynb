{
 "cells": [
  {
   "cell_type": "code",
   "execution_count": 1,
   "id": "6c603105-e4f3-404c-a49f-4558ce5bef9b",
   "metadata": {},
   "outputs": [
    {
     "name": "stdout",
     "output_type": "stream",
     "text": [
      "\n"
     ]
    }
   ],
   "source": [
    "#if-elif\n",
    "if():\n",
    "    print()\n",
    "elif():\n",
    "    print()\n",
    "elif():\n",
    "    print()\n",
    "else:\n",
    "    print()\n",
    "    "
   ]
  },
  {
   "cell_type": "markdown",
   "id": "db39325c-07f8-482c-8b86-74f35187811a",
   "metadata": {},
   "source": [
    "age is lessthan 18, Children\n",
    "age is greaterthanequal 18 and lessthan 35, Adult\n",
    "age is greaterthanequal 35 and lessthan 59, Citizan\n",
    "age is geaterthan equal 59, Senior Citizan"
   ]
  },
  {
   "cell_type": "code",
   "execution_count": 17,
   "id": "5009890c-e3a4-45be-975b-a6d278132fb4",
   "metadata": {},
   "outputs": [
    {
     "name": "stdin",
     "output_type": "stream",
     "text": [
      "Enter your Age: 80\n"
     ]
    }
   ],
   "source": [
    "age=int(input(\"Enter your Age:\"))"
   ]
  },
  {
   "cell_type": "code",
   "execution_count": 19,
   "id": "d96573a4-f396-463b-9620-bd6d40073dee",
   "metadata": {},
   "outputs": [
    {
     "name": "stdout",
     "output_type": "stream",
     "text": [
      "Senior Citizan\n"
     ]
    }
   ],
   "source": [
    "if(age<18):\n",
    "    print(\"Children\")\n",
    "elif(age<35):\n",
    "    print(\"Adult\")\n",
    "elif(age<59):\n",
    "    print(\"Citizan\")\n",
    "else:\n",
    "    print(\"Senior Citizan\")"
   ]
  },
  {
   "cell_type": "code",
   "execution_count": null,
   "id": "322918d5-0e5a-4b4c-b725-c870a8caef7d",
   "metadata": {},
   "outputs": [],
   "source": []
  }
 ],
 "metadata": {
  "kernelspec": {
   "display_name": "Python 3 (ipykernel)",
   "language": "python",
   "name": "python3"
  },
  "language_info": {
   "codemirror_mode": {
    "name": "ipython",
    "version": 3
   },
   "file_extension": ".py",
   "mimetype": "text/x-python",
   "name": "python",
   "nbconvert_exporter": "python",
   "pygments_lexer": "ipython3",
   "version": "3.12.7"
  }
 },
 "nbformat": 4,
 "nbformat_minor": 5
}
