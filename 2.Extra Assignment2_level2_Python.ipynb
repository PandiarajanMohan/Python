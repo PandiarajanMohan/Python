{
 "cells": [
  {
   "cell_type": "code",
   "execution_count": 2,
   "id": "ad7df66c-de49-4fc7-927f-778a076c6d98",
   "metadata": {},
   "outputs": [
    {
     "name": "stdout",
     "output_type": "stream",
     "text": [
      "0\n",
      "1\n",
      "2\n",
      "3\n",
      "4\n",
      "5\n",
      "6\n",
      "7\n",
      "8\n",
      "9\n",
      "10\n",
      "11\n",
      "12\n",
      "13\n",
      "14\n",
      "15\n",
      "16\n",
      "17\n",
      "18\n",
      "19\n"
     ]
    }
   ],
   "source": [
    "#print 0 to 20\n",
    "for num in range(0,20):\n",
    "    print(num)"
   ]
  },
  {
   "cell_type": "code",
   "execution_count": 6,
   "id": "6f95425f-6939-4cf3-807a-65744ea761ae",
   "metadata": {},
   "outputs": [
    {
     "name": "stdout",
     "output_type": "stream",
     "text": [
      "10 11 12 13 14 15 16 17 18 19 "
     ]
    }
   ],
   "source": [
    "#print range 10 to 20\n",
    "for num in range(10,20):\n",
    "    print(num,end=' ')"
   ]
  },
  {
   "cell_type": "code",
   "execution_count": 24,
   "id": "19b8da07-cbfa-4bee-8587-1b224640593d",
   "metadata": {},
   "outputs": [
    {
     "name": "stdout",
     "output_type": "stream",
     "text": [
      "[10, 20, 14, 55, 43, 87, 76]\n",
      "Number of items in the List2:\n",
      " 7\n"
     ]
    }
   ],
   "source": [
    "#Print number of items in the list by using len\n",
    "list2=[10,20,14,55,43,87,76]\n",
    "print(list2)\n",
    "print(\"Number of items in the List2:\\n\",len(list2))"
   ]
  },
  {
   "cell_type": "code",
   "execution_count": 26,
   "id": "75ba4a68-9946-4248-a56f-eb7d55254ddd",
   "metadata": {},
   "outputs": [
    {
     "name": "stdout",
     "output_type": "stream",
     "text": [
      "Artificial Intelligence\n"
     ]
    }
   ],
   "source": [
    "#pring AI in vertically\n",
    "print(\"Artificial Intelligence\")"
   ]
  },
  {
   "cell_type": "code",
   "execution_count": 30,
   "id": "bc4f2f7e-4de8-492d-8bdb-3229a68334be",
   "metadata": {},
   "outputs": [
    {
     "name": "stdout",
     "output_type": "stream",
     "text": [
      "A\n",
      "r\n",
      "t\n",
      "i\n",
      "f\n",
      "i\n",
      "c\n",
      "i\n",
      "a\n",
      "l\n",
      " \n",
      "I\n",
      "n\n",
      "t\n",
      "e\n",
      "l\n",
      "l\n",
      "i\n",
      "g\n",
      "e\n",
      "n\n",
      "c\n",
      "e\n"
     ]
    }
   ],
   "source": [
    "for ver in \"Artificial Intelligence\":\n",
    "    print(ver)"
   ]
  },
  {
   "cell_type": "code",
   "execution_count": 32,
   "id": "c01c28d1-e401-4c83-a4bd-9704c073d24f",
   "metadata": {},
   "outputs": [
    {
     "name": "stdout",
     "output_type": "stream",
     "text": [
      "-Your Name-\n"
     ]
    }
   ],
   "source": [
    "print(\"-Your Name-\")"
   ]
  },
  {
   "cell_type": "code",
   "execution_count": 34,
   "id": "72510d12-fcf1-4beb-8a23-4995efd2ab88",
   "metadata": {},
   "outputs": [
    {
     "name": "stdout",
     "output_type": "stream",
     "text": [
      "-Your Age-\n"
     ]
    }
   ],
   "source": [
    "print(\"-Your Age-\")"
   ]
  },
  {
   "cell_type": "code",
   "execution_count": 36,
   "id": "498b6467-3770-425b-aa31-05bc8e7ebe77",
   "metadata": {},
   "outputs": [
    {
     "name": "stdout",
     "output_type": "stream",
     "text": [
      "-Your Profession-\n"
     ]
    }
   ],
   "source": [
    "print(\"-Your Profession-\")"
   ]
  },
  {
   "cell_type": "code",
   "execution_count": 48,
   "id": "b7747828-0395-4a10-a7df-26008e9701eb",
   "metadata": {},
   "outputs": [],
   "source": [
    "#print this mixered data type using tuple.\n",
    "thistuple = tuple((1, \"Welcome\",2, \"Hope\"))"
   ]
  },
  {
   "cell_type": "code",
   "execution_count": 50,
   "id": "837fbc16-6520-4840-9000-ac51db62178f",
   "metadata": {},
   "outputs": [
    {
     "name": "stdout",
     "output_type": "stream",
     "text": [
      "(1, 'Welcome', 2, 'Hope')\n"
     ]
    }
   ],
   "source": [
    "print(thistuple)"
   ]
  },
  {
   "cell_type": "code",
   "execution_count": 58,
   "id": "d15e2a15-a14a-43a5-8b59-4d988341a8d0",
   "metadata": {},
   "outputs": [
    {
     "name": "stdout",
     "output_type": "stream",
     "text": [
      "((0, 1, 2, 3), ('Python', 'Hope'))\n"
     ]
    }
   ],
   "source": [
    "t1=(0,1,2,3)\n",
    "t2=(\"Python\",\"Hope\")\n",
    "t3=(t1,t2)\n",
    "print(t3)"
   ]
  },
  {
   "cell_type": "code",
   "execution_count": 72,
   "id": "eac3743d-fbaa-4878-8619-acb478967019",
   "metadata": {},
   "outputs": [
    {
     "name": "stdout",
     "output_type": "stream",
     "text": [
      "[20, 10, 16, 19, 25, 1, 276, 188] \n",
      "\n",
      "19 is Odd\n",
      "25 is Odd\n",
      "1 is Odd\n"
     ]
    }
   ],
   "source": [
    "#Print odd number in the list\n",
    "l1=[20,10,16,19,25,1,276,188]\n",
    "print(l1,end=\" \")\n",
    "print(\"\\n\")\n",
    "for list1 in l1:\n",
    "    if(list1%2!=0):\n",
    "        print(list1,\"is Odd\")\n",
    "   "
   ]
  },
  {
   "cell_type": "code",
   "execution_count": 74,
   "id": "8fa27b3d-b4f2-4248-8821-1261b0abc094",
   "metadata": {},
   "outputs": [
    {
     "name": "stdout",
     "output_type": "stream",
     "text": [
      "[20, 10, 16, 19, 25, 1, 276, 188] \n",
      "\n",
      "20 is Even\n",
      "10 is Even\n",
      "16 is Even\n",
      "276 is Even\n",
      "188 is Even\n"
     ]
    }
   ],
   "source": [
    "#Print even number in the list\n",
    "l1=[20,10,16,19,25,1,276,188]\n",
    "print(l1,end=\" \")\n",
    "print(\"\\n\")\n",
    "for list1 in l1:\n",
    "    if(list1%2==0):\n",
    "        print(list1,\"is Even\")"
   ]
  },
  {
   "cell_type": "code",
   "execution_count": null,
   "id": "bc30a43a-38f2-4b65-8f59-a5f15d168891",
   "metadata": {},
   "outputs": [],
   "source": []
  }
 ],
 "metadata": {
  "kernelspec": {
   "display_name": "Python 3 (ipykernel)",
   "language": "python",
   "name": "python3"
  },
  "language_info": {
   "codemirror_mode": {
    "name": "ipython",
    "version": 3
   },
   "file_extension": ".py",
   "mimetype": "text/x-python",
   "name": "python",
   "nbconvert_exporter": "python",
   "pygments_lexer": "ipython3",
   "version": "3.12.7"
  }
 },
 "nbformat": 4,
 "nbformat_minor": 5
}
