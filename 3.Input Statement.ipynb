{
 "cells": [
  {
   "cell_type": "code",
   "execution_count": 1,
   "id": "0879676a-5e9e-40e7-9149-8638c90be9fc",
   "metadata": {},
   "outputs": [
    {
     "name": "stdin",
     "output_type": "stream",
     "text": [
      "Enter Your First Name: Pandiarajan\n"
     ]
    }
   ],
   "source": [
    "firstName=input(\"Enter Your First Name:\")"
   ]
  },
  {
   "cell_type": "code",
   "execution_count": 3,
   "id": "836f850e-abee-4758-9ba2-524c43d808b6",
   "metadata": {},
   "outputs": [
    {
     "name": "stdin",
     "output_type": "stream",
     "text": [
      "Enter Your Last Name: Mohan\n"
     ]
    }
   ],
   "source": [
    "lastName=input(\"Enter Your Last Name:\")"
   ]
  },
  {
   "cell_type": "code",
   "execution_count": 5,
   "id": "e74fe803-f8bb-4fd2-a459-26b1d12d3c50",
   "metadata": {},
   "outputs": [
    {
     "name": "stdout",
     "output_type": "stream",
     "text": [
      "Full Name: Pandiarajan Mohan\n"
     ]
    }
   ],
   "source": [
    "fullName=firstName+\" \"+lastName\n",
    "print(\"Full Name:\",fullName)"
   ]
  },
  {
   "cell_type": "code",
   "execution_count": 7,
   "id": "b9cdb774-6e17-4371-9b2f-b4293e9566cc",
   "metadata": {},
   "outputs": [
    {
     "name": "stdin",
     "output_type": "stream",
     "text": [
      "Enter the Num1: 10\n"
     ]
    }
   ],
   "source": [
    "num1=input(\"Enter the Num1:\")"
   ]
  },
  {
   "cell_type": "code",
   "execution_count": 9,
   "id": "f67b20bc-d0ba-484c-acc7-592ab4dc662f",
   "metadata": {},
   "outputs": [
    {
     "name": "stdin",
     "output_type": "stream",
     "text": [
      "Enter the Num2: 30\n"
     ]
    }
   ],
   "source": [
    "num2=input(\"Enter the Num2:\")"
   ]
  },
  {
   "cell_type": "code",
   "execution_count": 11,
   "id": "f7bd0c35-8043-412b-9c77-cfbd2435405a",
   "metadata": {},
   "outputs": [
    {
     "name": "stdout",
     "output_type": "stream",
     "text": [
      "Addition of num1 and num2: 1030\n"
     ]
    }
   ],
   "source": [
    "add=num1+num2\n",
    "print(\"Addition of num1 and num2:\",add)"
   ]
  },
  {
   "cell_type": "code",
   "execution_count": 13,
   "id": "9ece9052-86ce-4b7d-bd01-0b3e0749ef6a",
   "metadata": {},
   "outputs": [
    {
     "ename": "SyntaxError",
     "evalue": "incomplete input (831729344.py, line 1)",
     "output_type": "error",
     "traceback": [
      "\u001b[1;36m  Cell \u001b[1;32mIn[13], line 1\u001b[1;36m\u001b[0m\n\u001b[1;33m    num3=int(input(\"Enter the num3:\")\u001b[0m\n\u001b[1;37m                                     ^\u001b[0m\n\u001b[1;31mSyntaxError\u001b[0m\u001b[1;31m:\u001b[0m incomplete input\n"
     ]
    }
   ],
   "source": [
    "num3=int(input(\"Enter the num3:\")"
   ]
  },
  {
   "cell_type": "code",
   "execution_count": 15,
   "id": "d6730d67-2869-481a-91e2-fdc6b814649e",
   "metadata": {},
   "outputs": [
    {
     "name": "stdin",
     "output_type": "stream",
     "text": [
      "Enter the num3: 10\n"
     ]
    }
   ],
   "source": [
    "num3=int(input(\"Enter the num3:\"))"
   ]
  },
  {
   "cell_type": "code",
   "execution_count": 17,
   "id": "67120b04-7aeb-45a8-8fd8-a313e69102d6",
   "metadata": {},
   "outputs": [
    {
     "name": "stdin",
     "output_type": "stream",
     "text": [
      "Enter the num4: 30\n"
     ]
    }
   ],
   "source": [
    "num4=int(input(\"Enter the num4:\"))"
   ]
  },
  {
   "cell_type": "code",
   "execution_count": 19,
   "id": "d01b57d9-53e5-4712-82ee-6fc844a6dc01",
   "metadata": {},
   "outputs": [
    {
     "name": "stdout",
     "output_type": "stream",
     "text": [
      "Addition of num3 and num4: 40\n"
     ]
    }
   ],
   "source": [
    "Add=num3+num4\n",
    "print(\"Addition of num3 and num4:\",Add)"
   ]
  },
  {
   "cell_type": "code",
   "execution_count": null,
   "id": "e9f9b53e-3665-4c16-ac45-9183d74a6936",
   "metadata": {},
   "outputs": [],
   "source": [
    "#should click enter after given the input. if you run the input line without enter, line will be deadlock like below.\n",
    "age=int(input(\"Enter your Age:\"))"
   ]
  },
  {
   "cell_type": "code",
   "execution_count": null,
   "id": "7a6d1172-2e03-4504-a8f0-afd2a2377056",
   "metadata": {},
   "outputs": [],
   "source": []
  }
 ],
 "metadata": {
  "kernelspec": {
   "display_name": "Python 3 (ipykernel)",
   "language": "python",
   "name": "python3"
  },
  "language_info": {
   "codemirror_mode": {
    "name": "ipython",
    "version": 3
   },
   "file_extension": ".py",
   "mimetype": "text/x-python",
   "name": "python",
   "nbconvert_exporter": "python",
   "pygments_lexer": "ipython3",
   "version": "3.12.7"
  }
 },
 "nbformat": 4,
 "nbformat_minor": 5
}
