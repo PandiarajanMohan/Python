{
 "cells": [
  {
   "cell_type": "code",
   "execution_count": 1,
   "id": "117c2a0d-3287-4271-aeee-87e1aadf3f15",
   "metadata": {},
   "outputs": [
    {
     "name": "stdout",
     "output_type": "stream",
     "text": [
      "num1+num2=  60\n"
     ]
    }
   ],
   "source": [
    "num1=10\n",
    "num2=50\n",
    "add=num1+num2\n",
    "print(\"num1+num2= \",add)"
   ]
  },
  {
   "cell_type": "code",
   "execution_count": null,
   "id": "52ca67fa-c48f-4584-9e93-a64bb988170e",
   "metadata": {},
   "outputs": [],
   "source": []
  }
 ],
 "metadata": {
  "kernelspec": {
   "display_name": "Python 3 (ipykernel)",
   "language": "python",
   "name": "python3"
  },
  "language_info": {
   "codemirror_mode": {
    "name": "ipython",
    "version": 3
   },
   "file_extension": ".py",
   "mimetype": "text/x-python",
   "name": "python",
   "nbconvert_exporter": "python",
   "pygments_lexer": "ipython3",
   "version": "3.12.7"
  }
 },
 "nbformat": 4,
 "nbformat_minor": 5
}
