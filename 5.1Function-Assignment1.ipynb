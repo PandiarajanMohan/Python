{
 "cells": [
  {
   "cell_type": "markdown",
   "id": "f4094928-868d-4575-b166-553b002fa9a0",
   "metadata": {},
   "source": [
    "#Create a function with the below given output\n",
    "Sub-fields in AI are: \n",
    "Machine Learning \n",
    "Neural Networks \n",
    "Vision \n",
    "Robotics \n",
    "Speech Processing \n",
    "Natural Language Processing\n"
   ]
  },
  {
   "cell_type": "code",
   "execution_count": 23,
   "id": "048ba4e2-1328-42bb-9760-5e3ea76991cc",
   "metadata": {},
   "outputs": [],
   "source": [
    "def Subfields():\n",
    "    print(\"Sub-fields in AI are:\")\n",
    "    list1=[\"Machine Learning\",\"Neural Networks\",\"Vision\",\"Robotics\",\"Speech Processing\",\"Natural Language Processing\"]\n",
    "    for Subfield in list1:\n",
    "        print(Subfield)"
   ]
  },
  {
   "cell_type": "code",
   "execution_count": 25,
   "id": "f501eb79-8e8d-49e8-95aa-be698465bc85",
   "metadata": {},
   "outputs": [
    {
     "name": "stdout",
     "output_type": "stream",
     "text": [
      "Sub-fields in AI are:\n",
      "Machine Learning\n",
      "Neural Networks\n",
      "Vision\n",
      "Robotics\n",
      "Speech Processing\n",
      "Natural Language Processing\n"
     ]
    }
   ],
   "source": [
    "Subfields()"
   ]
  },
  {
   "cell_type": "code",
   "execution_count": 27,
   "id": "66d67cfe-fdf4-4b1d-959a-2959caa3973f",
   "metadata": {},
   "outputs": [],
   "source": [
    "# Create a function that checks whether the given number is Odd or Even\n",
    "\n",
    "def OddEven(num):\n",
    "    return num%2"
   ]
  },
  {
   "cell_type": "code",
   "execution_count": 31,
   "id": "17788292-d4ee-4764-a6b2-3edeb96a1406",
   "metadata": {},
   "outputs": [
    {
     "name": "stdin",
     "output_type": "stream",
     "text": [
      "Enter a number: 37\n"
     ]
    },
    {
     "name": "stdout",
     "output_type": "stream",
     "text": [
      "37 is Odd Number\n"
     ]
    }
   ],
   "source": [
    "num=int(input(\"Enter a number:\"))\n",
    "odd_even=OddEven(num)\n",
    "if(odd_even==0):\n",
    "    print(f\"{num} is Even Number\")\n",
    "else:\n",
    "    print(f\"{num} is Odd Number\")"
   ]
  },
  {
   "cell_type": "markdown",
   "id": "6b2d7387-0d49-49fd-a402-a36b392509ae",
   "metadata": {},
   "source": [
    "# Create a function that tells elegibility of marriage for male and female according to their age limit like 21 for male and 18 for female\n",
    "Your Gender:Male \n",
    "Your Age:20 \n",
    "NOT ELIGIBLE "
   ]
  },
  {
   "cell_type": "code",
   "execution_count": 33,
   "id": "2107ceb9-35a6-4868-b5c9-cf0d7eaf7c24",
   "metadata": {},
   "outputs": [],
   "source": [
    "def eligible(gender,age):\n",
    "    if(gender.upper()==\"MALE\" and age >=21):\n",
    "        message=\"ElIGIBLE\"\n",
    "    elif(gender.upper()==\"FEMALE\" and age >=18):\n",
    "        message=\"ElIGIBLE\"\n",
    "    else:\n",
    "        message=\"NOT ElIGIBLE\"\n",
    "\n",
    "    return message"
   ]
  },
  {
   "cell_type": "code",
   "execution_count": 39,
   "id": "7a232433-4c88-422f-8b94-258ca730f18c",
   "metadata": {},
   "outputs": [
    {
     "name": "stdin",
     "output_type": "stream",
     "text": [
      "Your Gender: male\n",
      "Your Age: 20\n"
     ]
    },
    {
     "name": "stdout",
     "output_type": "stream",
     "text": [
      "NOT ElIGIBLE\n"
     ]
    }
   ],
   "source": [
    "print(eligible(input(\"Your Gender:\"),int(input(\"Your Age:\"))))"
   ]
  },
  {
   "cell_type": "markdown",
   "id": "e15970ff-e470-4af6-8afe-573475db8956",
   "metadata": {},
   "source": [
    "# calculate the percentage of your 10th mark\n",
    "Subject1= 98 \n",
    "Subject2= 87 \n",
    "Subject3= 95 \n",
    "Subject4= 95 \n",
    "Subject5= 93 \n",
    "Total :  468 \n",
    "Percentage :  93.60000000000001 "
   ]
  },
  {
   "cell_type": "code",
   "execution_count": 45,
   "id": "0513f9d5-dc92-4d6f-b502-26b1591761e9",
   "metadata": {},
   "outputs": [],
   "source": [
    "def percentage(sub1,sub2,sub3,sub4,sub5):\n",
    "    print(f\"Total:{sub1+sub2+sub3+sub4+sub5}\")\n",
    "    return (sub1+sub2+sub3+sub4+sub5)/5"
   ]
  },
  {
   "cell_type": "code",
   "execution_count": 47,
   "id": "2cd45f82-e61f-4a94-8111-6332bb147033",
   "metadata": {},
   "outputs": [
    {
     "name": "stdin",
     "output_type": "stream",
     "text": [
      "Subject1= 98\n",
      "Subject2= 87\n",
      "Subject3= 95\n",
      "Subject4= 95\n",
      "Subject5= 93\n"
     ]
    },
    {
     "name": "stdout",
     "output_type": "stream",
     "text": [
      "Total:468\n",
      "Percentage: 93.6\n"
     ]
    }
   ],
   "source": [
    "print(\"Percentage:\",percentage(int(input(\"Subject1=\")),int(input(\"Subject2=\")),int(input(\"Subject3=\")),int(input(\"Subject4=\")),int(input(\"Subject5=\"))))"
   ]
  },
  {
   "cell_type": "markdown",
   "id": "8fd4ca3a-b4cd-4ca4-8bd5-d255e5e683e6",
   "metadata": {},
   "source": [
    "#print area and perimeter of triangle using class and functions\n",
    "Height:32 \n",
    "Breadth:34 \n",
    "Area formula: (Height*Breadth)/2 \n",
    "Area of Triangle:  544.0 \n",
    "Height1:2 \n",
    "Height2:4 \n",
    "Breadth:4 \n",
    "Perimeter formula: Height1+Height2+Breadth \n",
    "Perimeter of Triangle:  10"
   ]
  },
  {
   "cell_type": "code",
   "execution_count": 61,
   "id": "bd3e3dcf-7b63-4196-bc2f-f5a48c4a281e",
   "metadata": {},
   "outputs": [],
   "source": [
    "def area(height,breadth):\n",
    "    print(\"Area formula: (Height*Breadth)/2\")\n",
    "    return (height*breadth)/2"
   ]
  },
  {
   "cell_type": "code",
   "execution_count": 73,
   "id": "d9b0428a-0d3e-48d4-aa5b-2fbea71ba363",
   "metadata": {},
   "outputs": [],
   "source": [
    "def perimeter(h1,h2,b1):\n",
    "    print(\"Perimeter formula: Height1+Height2+Breadth\")\n",
    "    return h1+h2+b1"
   ]
  },
  {
   "cell_type": "code",
   "execution_count": 77,
   "id": "b6e9ed4d-7df3-440c-abc4-0981a02b849e",
   "metadata": {},
   "outputs": [
    {
     "name": "stdin",
     "output_type": "stream",
     "text": [
      "Height: 32\n",
      "Breadth: 34\n"
     ]
    },
    {
     "name": "stdout",
     "output_type": "stream",
     "text": [
      "Area formula: (Height*Breadth)/2\n",
      "Area formula: 544.0\n"
     ]
    },
    {
     "name": "stdin",
     "output_type": "stream",
     "text": [
      "Height1: 2\n",
      "Height2: 4\n",
      "Breadth: 4\n"
     ]
    },
    {
     "name": "stdout",
     "output_type": "stream",
     "text": [
      "Perimeter formula: Height1+Height2+Breadth\n",
      "Perimeter of Triangle: 10\n"
     ]
    }
   ],
   "source": [
    "print(\"Area formula:\",area(float(input(\"Height:\")),float(input(\"Breadth:\"))))\n",
    "print(\"Perimeter of Triangle:\",perimeter(int(input(\"Height1:\")),int(input(\"Height2:\")),int(input(\"Breadth:\"))))"
   ]
  },
  {
   "cell_type": "code",
   "execution_count": null,
   "id": "c3f7874c-3b7b-449d-bec9-4fff9c89115f",
   "metadata": {},
   "outputs": [],
   "source": []
  }
 ],
 "metadata": {
  "kernelspec": {
   "display_name": "Python 3 (ipykernel)",
   "language": "python",
   "name": "python3"
  },
  "language_info": {
   "codemirror_mode": {
    "name": "ipython",
    "version": 3
   },
   "file_extension": ".py",
   "mimetype": "text/x-python",
   "name": "python",
   "nbconvert_exporter": "python",
   "pygments_lexer": "ipython3",
   "version": "3.12.7"
  }
 },
 "nbformat": 4,
 "nbformat_minor": 5
}
