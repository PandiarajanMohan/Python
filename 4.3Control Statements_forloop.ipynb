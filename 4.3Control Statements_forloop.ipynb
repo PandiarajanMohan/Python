{
 "cells": [
  {
   "cell_type": "markdown",
   "id": "1b06c3cf-1481-4548-8987-4230648a2314",
   "metadata": {},
   "source": [
    "#for loop\n",
    "for tempvariable in actual variable:"
   ]
  },
  {
   "cell_type": "code",
   "execution_count": 5,
   "id": "191f154e-ac1e-4f82-b1dc-d849f4036b7d",
   "metadata": {},
   "outputs": [
    {
     "name": "stdout",
     "output_type": "stream",
     "text": [
      "26\n",
      "45\n",
      "39\n",
      "17\n",
      "76\n"
     ]
    }
   ],
   "source": [
    "list1=[26,45,39,17,76]\n",
    "for temp in list1:\n",
    "    print(temp)"
   ]
  },
  {
   "cell_type": "code",
   "execution_count": 7,
   "id": "4ba08549-dedf-4600-80da-47581120f9b3",
   "metadata": {},
   "outputs": [
    {
     "name": "stdout",
     "output_type": "stream",
     "text": [
      "Adult\n",
      "Citizen\n",
      "Citizen\n",
      "Children\n",
      "Senior Citizen\n"
     ]
    }
   ],
   "source": [
    "for age in list1:\n",
    "    if(age<18):\n",
    "        print(\"Children\")\n",
    "    elif(age<35):\n",
    "        print(\"Adult\")\n",
    "    elif(age<59):\n",
    "        print(\"Citizen\")\n",
    "    else:\n",
    "        print(\"Senior Citizen\")"
   ]
  },
  {
   "cell_type": "code",
   "execution_count": 13,
   "id": "2c4b885d-b35f-4df0-abb3-aa9a2c080454",
   "metadata": {},
   "outputs": [
    {
     "name": "stdout",
     "output_type": "stream",
     "text": [
      "26 is even number\n",
      "45 is odd number\n",
      "39 is odd number\n",
      "17 is odd number\n",
      "76 is even number\n"
     ]
    }
   ],
   "source": [
    "#Find Odd and even number from list\n",
    "for num in list1:\n",
    "    if(num%2==0):\n",
    "        print(num,\"is even number\")\n",
    "    else:\n",
    "        print(num,\"is odd number\")"
   ]
  },
  {
   "cell_type": "code",
   "execution_count": null,
   "id": "bde84735-ea29-4c72-9034-1e6a03e26755",
   "metadata": {},
   "outputs": [],
   "source": []
  }
 ],
 "metadata": {
  "kernelspec": {
   "display_name": "Python 3 (ipykernel)",
   "language": "python",
   "name": "python3"
  },
  "language_info": {
   "codemirror_mode": {
    "name": "ipython",
    "version": 3
   },
   "file_extension": ".py",
   "mimetype": "text/x-python",
   "name": "python",
   "nbconvert_exporter": "python",
   "pygments_lexer": "ipython3",
   "version": "3.12.7"
  }
 },
 "nbformat": 4,
 "nbformat_minor": 5
}
